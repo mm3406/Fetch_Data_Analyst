{
  "nbformat": 4,
  "nbformat_minor": 0,
  "metadata": {
    "colab": {
      "provenance": []
    },
    "kernelspec": {
      "name": "python3",
      "display_name": "Python 3"
    },
    "language_info": {
      "name": "python"
    }
  },
  "cells": [
    {
      "cell_type": "code",
      "source": [
        "import json\n",
        "import pandas as pd\n",
        "\n",
        "# Path to your JSON file\n",
        "file_path = '/content/brands.json'\n",
        "\n",
        "# Initialize an empty list to store the JSON objects\n",
        "data_list = []\n",
        "\n",
        "# Open the file and read line by line\n",
        "with open(file_path, 'r', encoding='utf-8') as file:\n",
        "    for line in file:\n",
        "        try:\n",
        "            # Convert each line to a dictionary and append to the list\n",
        "            json_obj = json.loads(line)\n",
        "            data_list.append(json_obj)\n",
        "        except json.JSONDecodeError as e:\n",
        "            # Output the error and the line for debugging\n",
        "            print(f\"JSONDecodeError: {e}\")\n",
        "            print(f\"Faulty line: {line}\")\n",
        "\n",
        "# Create a pandas DataFrame from the list of dictionaries\n",
        "df_brands = pd.DataFrame(data_list)\n",
        "\n",
        "# Check the DataFrame\n",
        "print(df_brands.head())\n",
        "\n",
        "# Handle missing values or further processing as needed\n"
      ],
      "metadata": {
        "colab": {
          "base_uri": "https://localhost:8080/"
        },
        "id": "SEhWsUjWBWT8",
        "outputId": "520fb756-8370-4a9b-bae5-a7b44b1e6cbc"
      },
      "execution_count": 14,
      "outputs": [
        {
          "output_type": "stream",
          "name": "stdout",
          "text": [
            "JSONDecodeError: Expecting ',' delimiter: line 2 column 1 (char 233)\n",
            "Faulty line: [[[[{\"_id\":{\"$oid\":\"601ac115be37ce2ead437551\"},\"barcode\":\"511111019862\",\"category\":\"Baking\",\"categoryCode\":\"BAKING\",\"cpg\":{\"$id\":{\"$oid\":\"601ac114be37ce2ead437550\"},\"$ref\":\"Cogs\"},\"name\":\"test brand @1612366101024\",\"topBrand\":false}\n",
            "\n",
            "JSONDecodeError: Expecting value: line 1 column 1 (char 0)\n",
            "Faulty line: ]]]]\n",
            "                                    _id       barcode  \\\n",
            "0  {'$oid': '601c5460be37ce2ead43755f'}  511111519928   \n",
            "1  {'$oid': '601ac142be37ce2ead43755d'}  511111819905   \n",
            "2  {'$oid': '601ac142be37ce2ead43755a'}  511111519874   \n",
            "3  {'$oid': '601ac142be37ce2ead43755e'}  511111319917   \n",
            "4  {'$oid': '601ac142be37ce2ead43755b'}  511111719885   \n",
            "\n",
            "                       brandCode        category      categoryCode  \\\n",
            "0                      STARBUCKS       Beverages         BEVERAGES   \n",
            "1  TEST BRANDCODE @1612366146176          Baking            BAKING   \n",
            "2  TEST BRANDCODE @1612366146051          Baking            BAKING   \n",
            "3  TEST BRANDCODE @1612366146827  Candy & Sweets  CANDY_AND_SWEETS   \n",
            "4  TEST BRANDCODE @1612366146091          Baking            BAKING   \n",
            "\n",
            "                                                 cpg  \\\n",
            "0  {'$id': {'$oid': '5332f5fbe4b03c9a25efd0ba'}, ...   \n",
            "1  {'$id': {'$oid': '601ac142be37ce2ead437559'}, ...   \n",
            "2  {'$id': {'$oid': '601ac142be37ce2ead437559'}, ...   \n",
            "3  {'$id': {'$oid': '5332fa12e4b03c9a25efd1e7'}, ...   \n",
            "4  {'$id': {'$oid': '601ac142be37ce2ead437559'}, ...   \n",
            "\n",
            "                        name topBrand  \n",
            "0                  Starbucks    False  \n",
            "1  test brand @1612366146176    False  \n",
            "2  test brand @1612366146051    False  \n",
            "3  test brand @1612366146827    False  \n",
            "4  test brand @1612366146091    False  \n"
          ]
        }
      ]
    },
    {
      "cell_type": "code",
      "source": [
        "import json\n",
        "import pandas as pd\n",
        "\n",
        "# Path to your JSON file\n",
        "file_path = '/content/receipts.json'\n",
        "\n",
        "# Initialize an empty list to store the JSON objects\n",
        "data_list = []\n",
        "\n",
        "# Open the file and read line by line\n",
        "with open(file_path, 'r', encoding='utf-8') as file:\n",
        "    for line in file:\n",
        "        try:\n",
        "            # Convert each line to a dictionary and append to the list\n",
        "            json_obj = json.loads(line)\n",
        "            data_list.append(json_obj)\n",
        "        except json.JSONDecodeError as e:\n",
        "            # Output the error and the line for debugging\n",
        "            print(f\"JSONDecodeError: {e}\")\n",
        "            print(f\"Faulty line: {line}\")\n",
        "\n",
        "# Create a pandas DataFrame from the list of dictionaries\n",
        "df_receipts = pd.DataFrame(data_list)\n",
        "\n",
        "# Check the DataFrame\n",
        "print(df_receipts.head())\n",
        "\n",
        "# Handle missing values or further processing as needed\n"
      ],
      "metadata": {
        "colab": {
          "base_uri": "https://localhost:8080/"
        },
        "id": "PDOlZBCmBkJs",
        "outputId": "91285e7f-d8d0-4e7b-ff68-4e65284d6c27"
      },
      "execution_count": 15,
      "outputs": [
        {
          "output_type": "stream",
          "name": "stdout",
          "text": [
            "JSONDecodeError: Expecting ',' delimiter: line 2 column 1 (char 872)\n",
            "Faulty line: [{\"_id\":{\"$oid\":\"5ff1e1eb0a720f0523000575\"},\"bonusPointsEarned\":500,\"bonusPointsEarnedReason\":\"Receipt number 2 completed, bonus point schedule DEFAULT (5cefdcacf3693e0b50e83a36)\",\"createDate\":{\"$date\":1609687531000},\"dateScanned\":{\"$date\":1609687531000},\"finishedDate\":{\"$date\":1609687531000},\"modifyDate\":{\"$date\":1609687536000},\"pointsAwardedDate\":{\"$date\":1609687531000},\"pointsEarned\":\"500.0\",\"purchaseDate\":{\"$date\":1609632000000},\"purchasedItemCount\":5,\"rewardsReceiptItemList\":[{\"barcode\":\"4011\",\"description\":\"ITEM NOT FOUND\",\"finalPrice\":\"26.00\",\"itemPrice\":\"26.00\",\"needsFetchReview\":false,\"partnerItemId\":\"1\",\"preventTargetGapPoints\":true,\"quantityPurchased\":5,\"userFlaggedBarcode\":\"4011\",\"userFlaggedNewItem\":true,\"userFlaggedPrice\":\"26.00\",\"userFlaggedQuantity\":5}],\"rewardsReceiptStatus\":\"FINISHED\",\"totalSpent\":\"26.00\",\"userId\":\"5ff1e1eacfcf6c399c274ae6\"}\n",
            "\n",
            "JSONDecodeError: Expecting value: line 1 column 1 (char 0)\n",
            "Faulty line: ]\n",
            "                                    _id  bonusPointsEarned  \\\n",
            "0  {'$oid': '5ff1e1bb0a720f052300056b'}              150.0   \n",
            "1  {'$oid': '5ff1e1f10a720f052300057a'}                5.0   \n",
            "2  {'$oid': '5ff1e1ee0a7214ada100056f'}                5.0   \n",
            "3  {'$oid': '5ff1e1d20a7214ada1000561'}                5.0   \n",
            "4  {'$oid': '5ff1e1e40a7214ada1000566'}              750.0   \n",
            "\n",
            "                             bonusPointsEarnedReason  \\\n",
            "0  Receipt number 5 completed, bonus point schedu...   \n",
            "1                         All-receipts receipt bonus   \n",
            "2                         All-receipts receipt bonus   \n",
            "3                         All-receipts receipt bonus   \n",
            "4  Receipt number 1 completed, bonus point schedu...   \n",
            "\n",
            "                 createDate               dateScanned  \\\n",
            "0  {'$date': 1609687483000}  {'$date': 1609687483000}   \n",
            "1  {'$date': 1609687537000}  {'$date': 1609687537000}   \n",
            "2  {'$date': 1609687534000}  {'$date': 1609687534000}   \n",
            "3  {'$date': 1609687506000}  {'$date': 1609687506000}   \n",
            "4  {'$date': 1609687524000}  {'$date': 1609687524000}   \n",
            "\n",
            "               finishedDate                modifyDate  \\\n",
            "0  {'$date': 1609687483000}  {'$date': 1609687488000}   \n",
            "1                       NaN  {'$date': 1609687542000}   \n",
            "2  {'$date': 1609687534000}  {'$date': 1609687539000}   \n",
            "3  {'$date': 1609687511000}  {'$date': 1609687511000}   \n",
            "4  {'$date': 1609687525000}  {'$date': 1609687530000}   \n",
            "\n",
            "          pointsAwardedDate pointsEarned              purchaseDate  \\\n",
            "0  {'$date': 1609687483000}        150.0  {'$date': 1609601083000}   \n",
            "1                       NaN            5  {'$date': 1609632000000}   \n",
            "2  {'$date': 1609687534000}          5.0  {'$date': 1609632000000}   \n",
            "3  {'$date': 1609687506000}          5.0  {'$date': 1609601106000}   \n",
            "4  {'$date': 1609687525000}        750.0  {'$date': 1609601124000}   \n",
            "\n",
            "   purchasedItemCount                             rewardsReceiptItemList  \\\n",
            "0                 2.0  [{'barcode': '4011', 'description': 'ITEM NOT ...   \n",
            "1                 1.0  [{'needsFetchReview': False, 'partnerItemId': ...   \n",
            "2                 4.0  [{'barcode': '4011', 'description': 'ITEM NOT ...   \n",
            "3                 2.0  [{'barcode': '4011', 'description': 'ITEM NOT ...   \n",
            "4                 1.0  [{'barcode': '4011', 'description': 'ITEM NOT ...   \n",
            "\n",
            "  rewardsReceiptStatus totalSpent                    userId  \n",
            "0             FINISHED      11.00  5ff1e194b6a9d73a3a9f1052  \n",
            "1             REJECTED      10.00  5ff1e1f1cfcf6c399c274b0b  \n",
            "2             FINISHED      28.00  5ff1e1eacfcf6c399c274ae6  \n",
            "3             FINISHED       1.00  5ff1e194b6a9d73a3a9f1052  \n",
            "4             FINISHED       3.25  5ff1e1e4cfcf6c399c274ac3  \n"
          ]
        }
      ]
    },
    {
      "cell_type": "code",
      "source": [
        "import json\n",
        "import pandas as pd\n",
        "\n",
        "# Path to your JSON file\n",
        "file_path = '/content/users.json'\n",
        "\n",
        "# Initialize an empty list to store the JSON objects\n",
        "data_list = []\n",
        "\n",
        "# Open the file and read line by line\n",
        "with open(file_path, 'r', encoding='utf-8') as file:\n",
        "    for line in file:\n",
        "        try:\n",
        "            # Convert each line to a dictionary and append to the list\n",
        "            json_obj = json.loads(line)\n",
        "            data_list.append(json_obj)\n",
        "        except json.JSONDecodeError as e:\n",
        "            # Output the error and the line for debugging\n",
        "            print(f\"JSONDecodeError: {e}\")\n",
        "            print(f\"Faulty line: {line}\")\n",
        "\n",
        "# Create a pandas DataFrame from the list of dictionaries\n",
        "df_users = pd.DataFrame(data_list)\n",
        "\n",
        "# Check the DataFrame\n",
        "print(df_users.head())\n",
        "\n",
        "# Handle missing values or further processing as needed\n"
      ],
      "metadata": {
        "colab": {
          "base_uri": "https://localhost:8080/"
        },
        "id": "iRJkwZPoBsnc",
        "outputId": "beb91d0e-58a7-4b2a-89d5-b18b77b43deb"
      },
      "execution_count": 16,
      "outputs": [
        {
          "output_type": "stream",
          "name": "stdout",
          "text": [
            "JSONDecodeError: Expecting ',' delimiter: line 2 column 1 (char 187)\n",
            "Faulty line: [{\"_id\":{\"$oid\":\"5ff1e194b6a9d73a3a9f1052\"},\"active\":true,\"createdDate\":{\"$date\":1609687444800},\"lastLogin\":{\"$date\":1609687537858},\"role\":\"consumer\",\"signUpSource\":\"Email\",\"state\":\"WI\"}\n",
            "\n",
            "JSONDecodeError: Expecting value: line 1 column 1 (char 0)\n",
            "Faulty line: ]\n",
            "                                    _id  active               createdDate  \\\n",
            "0  {'$oid': '5ff1e194b6a9d73a3a9f1052'}    True  {'$date': 1609687444800}   \n",
            "1  {'$oid': '5ff1e194b6a9d73a3a9f1052'}    True  {'$date': 1609687444800}   \n",
            "2  {'$oid': '5ff1e1eacfcf6c399c274ae6'}    True  {'$date': 1609687530554}   \n",
            "3  {'$oid': '5ff1e194b6a9d73a3a9f1052'}    True  {'$date': 1609687444800}   \n",
            "4  {'$oid': '5ff1e194b6a9d73a3a9f1052'}    True  {'$date': 1609687444800}   \n",
            "\n",
            "                  lastLogin      role signUpSource state  \n",
            "0  {'$date': 1609687537858}  consumer        Email    WI  \n",
            "1  {'$date': 1609687537858}  consumer        Email    WI  \n",
            "2  {'$date': 1609687530597}  consumer        Email    WI  \n",
            "3  {'$date': 1609687537858}  consumer        Email    WI  \n",
            "4  {'$date': 1609687537858}  consumer        Email    WI  \n"
          ]
        }
      ]
    },
    {
      "cell_type": "code",
      "source": [
        "# filling missing value using fillna()\n",
        "df_1.fillna(0)\n",
        "df_2.fillna(0)\n",
        "df_3.fillna(0)"
      ],
      "metadata": {
        "id": "SlN31FbrB1rl"
      },
      "execution_count": null,
      "outputs": []
    },
    {
      "cell_type": "code",
      "source": [
        "# Check for missing values in the DataFrame\n",
        "missing_values = df_brands.isnull().sum()\n",
        "print(missing_values[missing_values > 0])"
      ],
      "metadata": {
        "colab": {
          "base_uri": "https://localhost:8080/"
        },
        "id": "QsVzpA6oB_cy",
        "outputId": "e67bff0f-69e9-413c-bc98-a0af78718da4"
      },
      "execution_count": 17,
      "outputs": [
        {
          "output_type": "stream",
          "name": "stdout",
          "text": [
            "brandCode       233\n",
            "category        155\n",
            "categoryCode    650\n",
            "topBrand        612\n",
            "dtype: int64\n"
          ]
        }
      ]
    },
    {
      "cell_type": "code",
      "source": [
        "# Check for missing values in the DataFrame\n",
        "missing_values = df_receipts.isnull().sum()\n",
        "print(missing_values[missing_values > 0])"
      ],
      "metadata": {
        "colab": {
          "base_uri": "https://localhost:8080/"
        },
        "id": "4XhZMR7rCCWr",
        "outputId": "ddf74e2b-60ba-487c-b747-708e9ae3f0c0"
      },
      "execution_count": 18,
      "outputs": [
        {
          "output_type": "stream",
          "name": "stdout",
          "text": [
            "bonusPointsEarned          575\n",
            "bonusPointsEarnedReason    575\n",
            "finishedDate               551\n",
            "pointsAwardedDate          582\n",
            "pointsEarned               510\n",
            "purchaseDate               448\n",
            "purchasedItemCount         484\n",
            "rewardsReceiptItemList     440\n",
            "totalSpent                 435\n",
            "dtype: int64\n"
          ]
        }
      ]
    },
    {
      "cell_type": "code",
      "source": [
        "# Check for missing values in the DataFrame\n",
        "missing_values = df_users.isnull().sum()\n",
        "print(missing_values[missing_values > 0])"
      ],
      "metadata": {
        "colab": {
          "base_uri": "https://localhost:8080/"
        },
        "id": "_aO3s31iCF_J",
        "outputId": "f2b1d09c-8e16-4e17-dd4d-968253d0725d"
      },
      "execution_count": 19,
      "outputs": [
        {
          "output_type": "stream",
          "name": "stdout",
          "text": [
            "lastLogin       62\n",
            "signUpSource    48\n",
            "state           56\n",
            "dtype: int64\n"
          ]
        }
      ]
    },
    {
      "cell_type": "code",
      "source": [],
      "metadata": {
        "id": "adY4zFiBCXgQ"
      },
      "execution_count": null,
      "outputs": []
    }
  ]
}